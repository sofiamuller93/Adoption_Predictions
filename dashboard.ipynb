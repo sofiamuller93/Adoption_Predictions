{
 "cells": [
  {
   "cell_type": "code",
   "execution_count": 1,
   "metadata": {},
   "outputs": [],
   "source": [
    "%matplotlib inline\n",
    "import pandas as pd\n",
    "import numpy as np"
   ]
  },
  {
   "cell_type": "code",
   "execution_count": 2,
   "metadata": {},
   "outputs": [
    {
     "data": {
      "text/html": [
       "<div>\n",
       "<style scoped>\n",
       "    .dataframe tbody tr th:only-of-type {\n",
       "        vertical-align: middle;\n",
       "    }\n",
       "\n",
       "    .dataframe tbody tr th {\n",
       "        vertical-align: top;\n",
       "    }\n",
       "\n",
       "    .dataframe thead th {\n",
       "        text-align: right;\n",
       "    }\n",
       "</style>\n",
       "<table border=\"1\" class=\"dataframe\">\n",
       "  <thead>\n",
       "    <tr style=\"text-align: right;\">\n",
       "      <th></th>\n",
       "      <th>Unnamed: 0</th>\n",
       "      <th>Animal ID</th>\n",
       "      <th>Animal Type</th>\n",
       "      <th>Birthday</th>\n",
       "      <th>Breed</th>\n",
       "      <th>Color</th>\n",
       "      <th>Fixed upon Intake</th>\n",
       "      <th>Fixed upon Outcome</th>\n",
       "      <th>Gender</th>\n",
       "      <th>Intake Age (days)</th>\n",
       "      <th>Intake Condition</th>\n",
       "      <th>Intake DateTime</th>\n",
       "      <th>Intake Type</th>\n",
       "      <th>Name</th>\n",
       "      <th>Outcome Age</th>\n",
       "      <th>Outcome Date</th>\n",
       "      <th>Outcome Subtype</th>\n",
       "      <th>Outcome Type</th>\n",
       "      <th>Stay Duration</th>\n",
       "    </tr>\n",
       "  </thead>\n",
       "  <tbody>\n",
       "    <tr>\n",
       "      <th>0</th>\n",
       "      <td>0</td>\n",
       "      <td>A748291</td>\n",
       "      <td>Dog</td>\n",
       "      <td>06/01/2016</td>\n",
       "      <td>Pit Bull Mix</td>\n",
       "      <td>Black</td>\n",
       "      <td>Intact</td>\n",
       "      <td>Spayed</td>\n",
       "      <td>Female</td>\n",
       "      <td>300</td>\n",
       "      <td>Normal</td>\n",
       "      <td>05/01/2017 02:26:00 PM</td>\n",
       "      <td>Stray</td>\n",
       "      <td>*Madison</td>\n",
       "      <td>365</td>\n",
       "      <td>09/04/2017 12:00:00 AM</td>\n",
       "      <td>Partner</td>\n",
       "      <td>Transfer</td>\n",
       "      <td>125 days 09:34:00.000000000</td>\n",
       "    </tr>\n",
       "    <tr>\n",
       "      <th>1</th>\n",
       "      <td>1</td>\n",
       "      <td>A750529</td>\n",
       "      <td>Dog</td>\n",
       "      <td>12/21/2016</td>\n",
       "      <td>Miniature Schnauzer Mix</td>\n",
       "      <td>White/Cream</td>\n",
       "      <td>Intact</td>\n",
       "      <td>Spayed</td>\n",
       "      <td>Female</td>\n",
       "      <td>150</td>\n",
       "      <td>Normal</td>\n",
       "      <td>05/28/2017 01:22:00 PM</td>\n",
       "      <td>Stray</td>\n",
       "      <td>NaN</td>\n",
       "      <td>150</td>\n",
       "      <td>06/01/2017 04:42:00 PM</td>\n",
       "      <td>Partner</td>\n",
       "      <td>Transfer</td>\n",
       "      <td>4 days 03:20:00.000000000</td>\n",
       "    </tr>\n",
       "    <tr>\n",
       "      <th>2</th>\n",
       "      <td>2</td>\n",
       "      <td>A730601</td>\n",
       "      <td>Cat</td>\n",
       "      <td>12/07/2015</td>\n",
       "      <td>Domestic Shorthair Mix</td>\n",
       "      <td>Blue Tabby</td>\n",
       "      <td>Intact</td>\n",
       "      <td>Neutered</td>\n",
       "      <td>Male</td>\n",
       "      <td>210</td>\n",
       "      <td>Normal</td>\n",
       "      <td>07/07/2016 12:11:00 PM</td>\n",
       "      <td>Stray</td>\n",
       "      <td>NaN</td>\n",
       "      <td>210</td>\n",
       "      <td>07/08/2016 09:00:00 AM</td>\n",
       "      <td>SCRP</td>\n",
       "      <td>Transfer</td>\n",
       "      <td>0 days 20:49:00.000000000</td>\n",
       "    </tr>\n",
       "    <tr>\n",
       "      <th>3</th>\n",
       "      <td>3</td>\n",
       "      <td>A748238</td>\n",
       "      <td>Dog</td>\n",
       "      <td>05/01/2014</td>\n",
       "      <td>Bichon Frise Mix</td>\n",
       "      <td>White</td>\n",
       "      <td>Intact</td>\n",
       "      <td>Neutered</td>\n",
       "      <td>Male</td>\n",
       "      <td>1095</td>\n",
       "      <td>Normal</td>\n",
       "      <td>05/01/2017 10:53:00 AM</td>\n",
       "      <td>Stray</td>\n",
       "      <td>NaN</td>\n",
       "      <td>1095</td>\n",
       "      <td>05/06/2017 03:57:00 PM</td>\n",
       "      <td>Partner</td>\n",
       "      <td>Transfer</td>\n",
       "      <td>5 days 05:04:00.000000000</td>\n",
       "    </tr>\n",
       "    <tr>\n",
       "      <th>4</th>\n",
       "      <td>4</td>\n",
       "      <td>A683644</td>\n",
       "      <td>Dog</td>\n",
       "      <td>06/13/2014</td>\n",
       "      <td>Border Collie Mix</td>\n",
       "      <td>Brown/White</td>\n",
       "      <td>Intact</td>\n",
       "      <td>Spayed</td>\n",
       "      <td>Female</td>\n",
       "      <td>28</td>\n",
       "      <td>Nursing</td>\n",
       "      <td>07/13/2014 11:02:00 AM</td>\n",
       "      <td>Owner Surrender</td>\n",
       "      <td>*Zoey</td>\n",
       "      <td>120</td>\n",
       "      <td>11/06/2014 10:06:00 AM</td>\n",
       "      <td>Foster</td>\n",
       "      <td>Adoption</td>\n",
       "      <td>115 days 23:04:00.000000000</td>\n",
       "    </tr>\n",
       "  </tbody>\n",
       "</table>\n",
       "</div>"
      ],
      "text/plain": [
       "   Unnamed: 0 Animal ID Animal Type    Birthday                    Breed  \\\n",
       "0           0   A748291         Dog  06/01/2016             Pit Bull Mix   \n",
       "1           1   A750529         Dog  12/21/2016  Miniature Schnauzer Mix   \n",
       "2           2   A730601         Cat  12/07/2015   Domestic Shorthair Mix   \n",
       "3           3   A748238         Dog  05/01/2014         Bichon Frise Mix   \n",
       "4           4   A683644         Dog  06/13/2014        Border Collie Mix   \n",
       "\n",
       "         Color Fixed upon Intake Fixed upon Outcome  Gender  \\\n",
       "0        Black            Intact             Spayed  Female   \n",
       "1  White/Cream            Intact             Spayed  Female   \n",
       "2   Blue Tabby            Intact           Neutered    Male   \n",
       "3        White            Intact           Neutered    Male   \n",
       "4  Brown/White            Intact             Spayed  Female   \n",
       "\n",
       "   Intake Age (days) Intake Condition         Intake DateTime  \\\n",
       "0                300           Normal  05/01/2017 02:26:00 PM   \n",
       "1                150           Normal  05/28/2017 01:22:00 PM   \n",
       "2                210           Normal  07/07/2016 12:11:00 PM   \n",
       "3               1095           Normal  05/01/2017 10:53:00 AM   \n",
       "4                 28          Nursing  07/13/2014 11:02:00 AM   \n",
       "\n",
       "       Intake Type      Name  Outcome Age            Outcome Date  \\\n",
       "0            Stray  *Madison          365  09/04/2017 12:00:00 AM   \n",
       "1            Stray       NaN          150  06/01/2017 04:42:00 PM   \n",
       "2            Stray       NaN          210  07/08/2016 09:00:00 AM   \n",
       "3            Stray       NaN         1095  05/06/2017 03:57:00 PM   \n",
       "4  Owner Surrender     *Zoey          120  11/06/2014 10:06:00 AM   \n",
       "\n",
       "  Outcome Subtype Outcome Type                Stay Duration  \n",
       "0         Partner     Transfer  125 days 09:34:00.000000000  \n",
       "1         Partner     Transfer    4 days 03:20:00.000000000  \n",
       "2            SCRP     Transfer    0 days 20:49:00.000000000  \n",
       "3         Partner     Transfer    5 days 05:04:00.000000000  \n",
       "4          Foster     Adoption  115 days 23:04:00.000000000  "
      ]
     },
     "execution_count": 2,
     "metadata": {},
     "output_type": "execute_result"
    }
   ],
   "source": [
    "animals = pd.read_csv(\"Animals.csv\")\n",
    "animals.head()"
   ]
  },
  {
   "cell_type": "code",
   "execution_count": 3,
   "metadata": {},
   "outputs": [
    {
     "data": {
      "text/plain": [
       "(113429, 19)"
      ]
     },
     "execution_count": 3,
     "metadata": {},
     "output_type": "execute_result"
    }
   ],
   "source": [
    "animals.shape"
   ]
  },
  {
   "cell_type": "code",
   "execution_count": 4,
   "metadata": {},
   "outputs": [],
   "source": [
    "days = animals[\"Stay Duration\"].str.split(' ', 1, expand=True)"
   ]
  },
  {
   "cell_type": "code",
   "execution_count": 5,
   "metadata": {},
   "outputs": [],
   "source": [
    "animals[\"Stay Duration\"] = pd.to_numeric(days[0])"
   ]
  },
  {
   "cell_type": "code",
   "execution_count": 6,
   "metadata": {},
   "outputs": [
    {
     "data": {
      "text/plain": [
       "Unnamed: 0              int64\n",
       "Animal ID              object\n",
       "Animal Type            object\n",
       "Birthday               object\n",
       "Breed                  object\n",
       "Color                  object\n",
       "Fixed upon Intake      object\n",
       "Fixed upon Outcome     object\n",
       "Gender                 object\n",
       "Intake Age (days)       int64\n",
       "Intake Condition       object\n",
       "Intake DateTime        object\n",
       "Intake Type            object\n",
       "Name                   object\n",
       "Outcome Age             int64\n",
       "Outcome Date           object\n",
       "Outcome Subtype        object\n",
       "Outcome Type           object\n",
       "Stay Duration         float64\n",
       "dtype: object"
      ]
     },
     "execution_count": 6,
     "metadata": {},
     "output_type": "execute_result"
    }
   ],
   "source": [
    "animals.dtypes"
   ]
  },
  {
   "cell_type": "code",
   "execution_count": 7,
   "metadata": {},
   "outputs": [],
   "source": [
    "import plotly.graph_objs as go"
   ]
  },
  {
   "cell_type": "code",
   "execution_count": 8,
   "metadata": {},
   "outputs": [
    {
     "data": {
      "text/html": [
       "<div>\n",
       "<style scoped>\n",
       "    .dataframe tbody tr th:only-of-type {\n",
       "        vertical-align: middle;\n",
       "    }\n",
       "\n",
       "    .dataframe tbody tr th {\n",
       "        vertical-align: top;\n",
       "    }\n",
       "\n",
       "    .dataframe thead th {\n",
       "        text-align: right;\n",
       "    }\n",
       "</style>\n",
       "<table border=\"1\" class=\"dataframe\">\n",
       "  <thead>\n",
       "    <tr style=\"text-align: right;\">\n",
       "      <th></th>\n",
       "      <th>Unnamed: 0</th>\n",
       "      <th>Animal ID</th>\n",
       "      <th>Animal Type</th>\n",
       "      <th>Birthday</th>\n",
       "      <th>Breed</th>\n",
       "      <th>Color</th>\n",
       "      <th>Fixed upon Intake</th>\n",
       "      <th>Fixed upon Outcome</th>\n",
       "      <th>Gender</th>\n",
       "      <th>Intake Age (days)</th>\n",
       "      <th>Intake Condition</th>\n",
       "      <th>Intake DateTime</th>\n",
       "      <th>Intake Type</th>\n",
       "      <th>Name</th>\n",
       "      <th>Outcome Age</th>\n",
       "      <th>Outcome Date</th>\n",
       "      <th>Outcome Subtype</th>\n",
       "      <th>Outcome Type</th>\n",
       "      <th>Stay Duration</th>\n",
       "    </tr>\n",
       "  </thead>\n",
       "  <tbody>\n",
       "    <tr>\n",
       "      <th>0</th>\n",
       "      <td>0</td>\n",
       "      <td>A748291</td>\n",
       "      <td>Dog</td>\n",
       "      <td>06/01/2016</td>\n",
       "      <td>Pit Bull Mix</td>\n",
       "      <td>Black</td>\n",
       "      <td>Intact</td>\n",
       "      <td>Spayed</td>\n",
       "      <td>Female</td>\n",
       "      <td>300</td>\n",
       "      <td>Normal</td>\n",
       "      <td>05/01/2017 02:26:00 PM</td>\n",
       "      <td>Stray</td>\n",
       "      <td>*Madison</td>\n",
       "      <td>365</td>\n",
       "      <td>09/04/2017 12:00:00 AM</td>\n",
       "      <td>Partner</td>\n",
       "      <td>Transfer</td>\n",
       "      <td>125.0</td>\n",
       "    </tr>\n",
       "    <tr>\n",
       "      <th>1</th>\n",
       "      <td>1</td>\n",
       "      <td>A750529</td>\n",
       "      <td>Dog</td>\n",
       "      <td>12/21/2016</td>\n",
       "      <td>Miniature Schnauzer Mix</td>\n",
       "      <td>White/Cream</td>\n",
       "      <td>Intact</td>\n",
       "      <td>Spayed</td>\n",
       "      <td>Female</td>\n",
       "      <td>150</td>\n",
       "      <td>Normal</td>\n",
       "      <td>05/28/2017 01:22:00 PM</td>\n",
       "      <td>Stray</td>\n",
       "      <td>NaN</td>\n",
       "      <td>150</td>\n",
       "      <td>06/01/2017 04:42:00 PM</td>\n",
       "      <td>Partner</td>\n",
       "      <td>Transfer</td>\n",
       "      <td>4.0</td>\n",
       "    </tr>\n",
       "    <tr>\n",
       "      <th>2</th>\n",
       "      <td>2</td>\n",
       "      <td>A730601</td>\n",
       "      <td>Cat</td>\n",
       "      <td>12/07/2015</td>\n",
       "      <td>Domestic Shorthair Mix</td>\n",
       "      <td>Blue Tabby</td>\n",
       "      <td>Intact</td>\n",
       "      <td>Neutered</td>\n",
       "      <td>Male</td>\n",
       "      <td>210</td>\n",
       "      <td>Normal</td>\n",
       "      <td>07/07/2016 12:11:00 PM</td>\n",
       "      <td>Stray</td>\n",
       "      <td>NaN</td>\n",
       "      <td>210</td>\n",
       "      <td>07/08/2016 09:00:00 AM</td>\n",
       "      <td>SCRP</td>\n",
       "      <td>Transfer</td>\n",
       "      <td>0.0</td>\n",
       "    </tr>\n",
       "    <tr>\n",
       "      <th>3</th>\n",
       "      <td>3</td>\n",
       "      <td>A748238</td>\n",
       "      <td>Dog</td>\n",
       "      <td>05/01/2014</td>\n",
       "      <td>Bichon Frise Mix</td>\n",
       "      <td>White</td>\n",
       "      <td>Intact</td>\n",
       "      <td>Neutered</td>\n",
       "      <td>Male</td>\n",
       "      <td>1095</td>\n",
       "      <td>Normal</td>\n",
       "      <td>05/01/2017 10:53:00 AM</td>\n",
       "      <td>Stray</td>\n",
       "      <td>NaN</td>\n",
       "      <td>1095</td>\n",
       "      <td>05/06/2017 03:57:00 PM</td>\n",
       "      <td>Partner</td>\n",
       "      <td>Transfer</td>\n",
       "      <td>5.0</td>\n",
       "    </tr>\n",
       "    <tr>\n",
       "      <th>4</th>\n",
       "      <td>4</td>\n",
       "      <td>A683644</td>\n",
       "      <td>Dog</td>\n",
       "      <td>06/13/2014</td>\n",
       "      <td>Border Collie Mix</td>\n",
       "      <td>Brown/White</td>\n",
       "      <td>Intact</td>\n",
       "      <td>Spayed</td>\n",
       "      <td>Female</td>\n",
       "      <td>28</td>\n",
       "      <td>Nursing</td>\n",
       "      <td>07/13/2014 11:02:00 AM</td>\n",
       "      <td>Owner Surrender</td>\n",
       "      <td>*Zoey</td>\n",
       "      <td>120</td>\n",
       "      <td>11/06/2014 10:06:00 AM</td>\n",
       "      <td>Foster</td>\n",
       "      <td>Adoption</td>\n",
       "      <td>115.0</td>\n",
       "    </tr>\n",
       "  </tbody>\n",
       "</table>\n",
       "</div>"
      ],
      "text/plain": [
       "   Unnamed: 0 Animal ID Animal Type    Birthday                    Breed  \\\n",
       "0           0   A748291         Dog  06/01/2016             Pit Bull Mix   \n",
       "1           1   A750529         Dog  12/21/2016  Miniature Schnauzer Mix   \n",
       "2           2   A730601         Cat  12/07/2015   Domestic Shorthair Mix   \n",
       "3           3   A748238         Dog  05/01/2014         Bichon Frise Mix   \n",
       "4           4   A683644         Dog  06/13/2014        Border Collie Mix   \n",
       "\n",
       "         Color Fixed upon Intake Fixed upon Outcome  Gender  \\\n",
       "0        Black            Intact             Spayed  Female   \n",
       "1  White/Cream            Intact             Spayed  Female   \n",
       "2   Blue Tabby            Intact           Neutered    Male   \n",
       "3        White            Intact           Neutered    Male   \n",
       "4  Brown/White            Intact             Spayed  Female   \n",
       "\n",
       "   Intake Age (days) Intake Condition         Intake DateTime  \\\n",
       "0                300           Normal  05/01/2017 02:26:00 PM   \n",
       "1                150           Normal  05/28/2017 01:22:00 PM   \n",
       "2                210           Normal  07/07/2016 12:11:00 PM   \n",
       "3               1095           Normal  05/01/2017 10:53:00 AM   \n",
       "4                 28          Nursing  07/13/2014 11:02:00 AM   \n",
       "\n",
       "       Intake Type      Name  Outcome Age            Outcome Date  \\\n",
       "0            Stray  *Madison          365  09/04/2017 12:00:00 AM   \n",
       "1            Stray       NaN          150  06/01/2017 04:42:00 PM   \n",
       "2            Stray       NaN          210  07/08/2016 09:00:00 AM   \n",
       "3            Stray       NaN         1095  05/06/2017 03:57:00 PM   \n",
       "4  Owner Surrender     *Zoey          120  11/06/2014 10:06:00 AM   \n",
       "\n",
       "  Outcome Subtype Outcome Type  Stay Duration  \n",
       "0         Partner     Transfer          125.0  \n",
       "1         Partner     Transfer            4.0  \n",
       "2            SCRP     Transfer            0.0  \n",
       "3         Partner     Transfer            5.0  \n",
       "4          Foster     Adoption          115.0  "
      ]
     },
     "execution_count": 8,
     "metadata": {},
     "output_type": "execute_result"
    }
   ],
   "source": [
    "animals.head()"
   ]
  },
  {
   "cell_type": "code",
   "execution_count": 115,
   "metadata": {},
   "outputs": [
    {
     "data": {
      "image/png": "[encoded data removed]",
      "text/plain": [
       "<Figure size 432x288 with 1 Axes>"
      ]
     },
     "metadata": {},
     "output_type": "display_data"
    }
   ],
   "source": [
    "# Create bins in which to place values based age in days;\n",
    "bins = [0, 270, 450, 730, 1460, 2920, 3650, 7000]\n",
    "\n",
    "# Create labels for these bins\n",
    "labels = [\"Less than 9 mon.\", \"9 to 15 mon.\", \"2 years\", \"4 years\", \"6 years\", \"8 years\", \"Senior\"]\n",
    "\n",
    "age_series = pd.cut(animals[\"Outcome Age\"], bins, labels=group_labels)\n",
    "\n",
    "ax = age_series.value_counts(sort=False).plot.bar()\n",
    "# ax.set_xticklabels([c[1:-1].replace(\",\",\" to\") for c in out.cat.categories])\n",
    "\n",
    "\n",
    "# age_series.head()"
   ]
  },
  {
   "cell_type": "code",
   "execution_count": 170,
   "metadata": {},
   "outputs": [
    {
     "data": {
      "text/plain": [
       "(7060, 5)"
      ]
     },
     "execution_count": 170,
     "metadata": {},
     "output_type": "execute_result"
    }
   ],
   "source": [
    "breed = \"Pit Bull Mix\"\n",
    "color = \"Black\"\n",
    "animal_unadopted = animals[animals[\"Outcome Type\"] != \"Adoption\"]\n",
    "animal_unadopted = animal_unadopted[animal_unadopted[\"Breed\"] == breed]\n",
    "\n",
    "# animal_unadopted = animal_unadopted[animal_unadopted[\"Color\"] == color]\n",
    "# age_unadopted = animal_unadopted[animal_unadopted[\"Breed\"] == breed].groupby(\"Outcome Age\").count()\n",
    "# age_unadopted[\"Breed\"] = age_unadopted[\"Breed\"]/age_unadopted[\"Breed\"].sum()\n",
    "# age_unadopted[\"Breed\"].sum()\n",
    "# age_unadopted['Breed'].plot.bar()\n",
    "# age_unadopted.head()\n",
    "\n",
    "# Create bins in which to place values based upon age in days\n",
    "bins = [0, 270, 450, 730, 1460, 2920, 3650, 7000]\n",
    "\n",
    "# Create labels for these bins\n",
    "labels = [\"Less than 9 mon.\", \"9 to 15 mon.\", \"2 years\", \"4 years\", \"6 years\", \"8 years\", \"Senior\"]\n",
    "\n",
    "age_series = pd.cut(animal_unadopted[\"Intake Age (days)\"], bins, labels=group_labels, include_lowest=True)\n",
    "animal_unadopted[\"age_range\"] = age_series\n",
    "animal_unadopted.shape\n",
    "\n",
    "# animal_unadopted.shape\n",
    "age_df = animal_unadopted.groupby(\"age_range\").count()[\"Breed\"]\n",
    "labels = age_df.index.tolist()\n",
    "counts = age_df.values.tolist()\n",
    "data = {\"x\": labels, \"y\": counts}\n",
    "data\n",
    "animal_unadopted[[\"age_range\", \"Gender\", \"Animal Type\", \"Color\", \"Stay Duration\"]].shape\n",
    "# df = animals.groupby(pd.cut(animals[\"\"], bins=bins)).val.count()\n",
    "# df.plot(kind='bar')"
   ]
  },
  {
   "cell_type": "code",
   "execution_count": 89,
   "metadata": {},
   "outputs": [],
   "source": [
    "# plt.hist(animals, bins=bins)"
   ]
  },
  {
   "cell_type": "code",
   "execution_count": 44,
   "metadata": {},
   "outputs": [
    {
     "data": {
      "text/plain": [
       "<matplotlib.axes._subplots.AxesSubplot at 0x12a59fd30>"
      ]
     },
     "execution_count": 44,
     "metadata": {},
     "output_type": "execute_result"
    },
    {
     "data": {
      "image/png": "[encoded data removed]",
      "text/plain": [
       "<Figure size 432x288 with 1 Axes>"
      ]
     },
     "metadata": {},
     "output_type": "display_data"
    }
   ],
   "source": [
    "animal_unadopted = animals[animals[\"Outcome Type\"]!=\"Adoption\"]\n",
    "age_unadopted = animal_unadopted[animal_unadopted[\"Breed\"] == 'Pit Bull Mix'].groupby(\"Intake Age (days)\").count()\n",
    "age_unadopted[\"Breed\"] = age_unadopted[\"Breed\"]/age_unadopted[\"Breed\"].sum()\n",
    "age_unadopted[\"Breed\"].sum()\n",
    "age_unadopted['Breed'].plot.bar()"
   ]
  },
  {
   "cell_type": "code",
   "execution_count": 45,
   "metadata": {},
   "outputs": [
    {
     "data": {
      "text/plain": [
       "<matplotlib.axes._subplots.AxesSubplot at 0x12a82b0b8>"
      ]
     },
     "execution_count": 45,
     "metadata": {},
     "output_type": "execute_result"
    },
    {
     "data": {
      "image/png": "[encoded data removed]",
      "text/plain": [
       "<Figure size 432x288 with 1 Axes>"
      ]
     },
     "metadata": {},
     "output_type": "display_data"
    }
   ],
   "source": [
    "animal_adopted = animals[animals[\"Outcome Type\"]==\"Adoption\"]\n",
    "age_adopted = animal_adopted[animal_adopted[\"Breed\"] == 'Pit Bull Mix'].groupby(\"Intake Age (days)\").count()\n",
    "age_adopted[\"Breed\"] = age_adopted[\"Breed\"]/age_adopted[\"Breed\"].sum()\n",
    "age_adopted[\"Breed\"].sum()\n",
    "age_adopted['Breed'].plot.bar()"
   ]
  },
  {
   "cell_type": "code",
   "execution_count": 171,
   "metadata": {},
   "outputs": [
    {
     "data": {
      "text/plain": [
       "<matplotlib.axes._subplots.AxesSubplot at 0x12e869208>"
      ]
     },
     "execution_count": 171,
     "metadata": {},
     "output_type": "execute_result"
    },
    {
     "data": {
      "image/png": "[encoded data removed]",
      "text/plain": [
       "<Figure size 432x288 with 1 Axes>"
      ]
     },
     "metadata": {},
     "output_type": "display_data"
    }
   ],
   "source": [
    "animal_unadopted = animals[animals[\"Outcome Type\"]!=\"Adoption\"]\n",
    "gender_unadopted = animal_unadopted[animal_unadopted[\"Breed\"] == 'Pit Bull Mix'].groupby(\"Gender\").count()\n",
    "gender_unadopted[\"Breed\"] = gender_unadopted[\"Breed\"]/gender_unadopted[\"Breed\"].sum()\n",
    "gender_unadopted[\"Breed\"].sum()\n",
    "gender_unadopted['Breed'].plot.bar()"
   ]
  },
  {
   "cell_type": "code",
   "execution_count": 59,
   "metadata": {},
   "outputs": [
    {
     "data": {
      "text/plain": [
       "(41,)"
      ]
     },
     "execution_count": 59,
     "metadata": {},
     "output_type": "execute_result"
    }
   ],
   "source": [
    "delta = age_unadopted[\"Breed\"] - age_adopted[\"Breed\"]\n",
    "delta = delta.fillna(0)\n",
    "# delta.plot.bar(figsize=(15,4))\n",
    "x = delta.index.values\n",
    "y = delta.values\n",
    "\n",
    "\"/age/<breed>\""
   ]
  },
  {
   "cell_type": "code",
   "execution_count": null,
   "metadata": {},
   "outputs": [],
   "source": []
  },
  {
   "cell_type": "code",
   "execution_count": null,
   "metadata": {},
   "outputs": [],
   "source": [
    "@app.route(\"/age/<breed>\")\n",
    "def adopt_by_age(breed):\n",
    "\n",
    "    animals = pd.read_csv(\"Animals.csv\")\n",
    "\n",
    "    animal_unadopted = animals[animals[\"Outcome Type\"]!=\"Adoption\"]\n",
    "    age_unadopted = animal_unadopted[animal_unadopted[\"Breed\"] == 'Pit Bull Mix'].groupby(\"Intake Age (days)\").count()\n",
    "    age_unadopted[\"Breed\"] = age_unadopted[\"Breed\"]/age_unadopted[\"Breed\"].sum()\n",
    "    \n",
    "    animal_adopted = animals[animals[\"Outcome Type\"]==\"Adoption\"]\n",
    "    age_adopted = animal_adopted[animal_adopted[\"Breed\"] == 'Pit Bull Mix'].groupby(\"Intake Age (days)\").count()\n",
    "    age_adopted[\"Breed\"] = age_adopted[\"Breed\"]/age_adopted[\"Breed\"].sum()\n",
    "    age_adopted[\"Breed\"].sum()\n",
    "\n",
    "\n",
    "    delta = age_unadopted[\"Breed\"] - age_adopted[\"Breed\"]\n",
    "    delta = delta.fillna(0)\n",
    "    x = delta.index.values\n",
    "    y = delta.values\n",
    "    \n",
    "    data = {\n",
    "        \"x\": x,\n",
    "        \"y\": y,\n",
    "        \"title\": \"Age vs Adoptability\"\n",
    "    }\n",
    "\n",
    "    return jsonify(data)"
   ]
  },
  {
   "cell_type": "code",
   "execution_count": 10,
   "metadata": {},
   "outputs": [],
   "source": [
    "# for x in animals[\"Stay Duration\"]:\n",
    "#     if x > 0:\n",
    "    \n",
    "        \n",
    "        \n",
    "# fig = go.FigureWidget(\n",
    "#     data=[\n",
    "#         dict(\n",
    "#             type='scatterg1',\n",
    "#             x=animals['Stay Duration'],\n",
    "#             y=animals['Intake Type'],\n",
    "            \n",
    "#         )\n",
    "#     ],\n",
    "# )\n",
    "\n",
    "\n",
    "# fig"
   ]
  },
  {
   "cell_type": "code",
   "execution_count": 62,
   "metadata": {},
   "outputs": [
    {
     "data": {
      "text/plain": [
       "<matplotlib.axes._subplots.AxesSubplot at 0x12a6fe278>"
      ]
     },
     "execution_count": 62,
     "metadata": {},
     "output_type": "execute_result"
    },
    {
     "data": {
      "image/png": "[encoded data removed]",
      "text/plain": [
       "<Figure size 432x288 with 1 Axes>"
      ]
     },
     "metadata": {},
     "output_type": "display_data"
    }
   ],
   "source": [
    "color = \"Black\"\n",
    "\n",
    "animal_unadopted = animals[animals[\"Outcome Type\"]!=\"Adoption\"]\n",
    "age_unadopted = animal_unadopted[animal_unadopted[\"Color\"] == color].groupby(\"Intake Age (days)\").count()\n",
    "age_unadopted[\"Color\"] = age_unadopted[\"Color\"]/age_unadopted[\"Color\"].sum()\n",
    "\n",
    "age_unadopted['Color'].plot.bar()"
   ]
  },
  {
   "cell_type": "code",
   "execution_count": null,
   "metadata": {},
   "outputs": [],
   "source": [
    "@app.route(\"/color/<breed>\")\n",
    "def adopt_by_age(color):\n",
    "\n",
    "    animals = pd.read_csv(\"Animals.csv\")\n",
    "\n",
    "    animal_unadopted = animals[animals[\"Outcome Type\"]!=\"Adoption\"]\n",
    "    age_unadopted = animal_unadopted[animal_unadopted[\"Color\"] == color].groupby(\"Intake Age (days)\").count()\n",
    "    age_unadopted[\"Color\"] = age_unadopted[\"Color\"]/age_unadopted[\"Color\"].sum()\n",
    "    \n",
    "    animal_adopted = animals[animals[\"Outcome Type\"]==\"Adoption\"]\n",
    "    age_adopted = animal_adopted[animal_adopted[\"Color\"] == color].groupby(\"Intake Age (days)\").count()\n",
    "    age_adopted[\"Color\"] = age_adopted[\"Color\"]/age_adopted[\"Color\"].sum()\n",
    "    age_adopted[\"Color\"].sum()\n",
    "\n",
    "\n",
    "    delta = age_unadopted[\"Color\"] - age_adopted[\"Color\"]\n",
    "    delta = delta.fillna(0)\n",
    "    x = delta.index.values\n",
    "    y = delta.values\n",
    "    \n",
    "    data = {\n",
    "        \"x\": x,\n",
    "        \"y\": y,\n",
    "        \"title\": \"Color vs Adoptability\"\n",
    "    }\n",
    "\n",
    "    return jsonify(data)"
   ]
  }
 ],
 "metadata": {
  "kernelspec": {
   "display_name": "Python [conda env:PythonData]",
   "language": "python",
   "name": "conda-env-PythonData-py"
  },
  "language_info": {
   "codemirror_mode": {
    "name": "ipython",
    "version": 3
   },
   "file_extension": ".py",
   "mimetype": "text/x-python",
   "name": "python",
   "nbconvert_exporter": "python",
   "pygments_lexer": "ipython3",
   "version": "3.6.4"
  }
 },
 "nbformat": 4,
 "nbformat_minor": 2
}
